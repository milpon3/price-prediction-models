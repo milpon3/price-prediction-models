{
 "cells": [
  {
   "cell_type": "code",
   "execution_count": 15,
   "id": "edcc1c80",
   "metadata": {},
   "outputs": [
    {
     "data": {
      "text/html": [
       "<div>\n",
       "<style scoped>\n",
       "    .dataframe tbody tr th:only-of-type {\n",
       "        vertical-align: middle;\n",
       "    }\n",
       "\n",
       "    .dataframe tbody tr th {\n",
       "        vertical-align: top;\n",
       "    }\n",
       "\n",
       "    .dataframe thead th {\n",
       "        text-align: right;\n",
       "    }\n",
       "</style>\n",
       "<table border=\"1\" class=\"dataframe\">\n",
       "  <thead>\n",
       "    <tr style=\"text-align: right;\">\n",
       "      <th></th>\n",
       "      <th>Date</th>\n",
       "      <th>open</th>\n",
       "      <th>high</th>\n",
       "      <th>low</th>\n",
       "      <th>close</th>\n",
       "      <th>tick_volume</th>\n",
       "      <th>spread</th>\n",
       "      <th>real_volume</th>\n",
       "    </tr>\n",
       "  </thead>\n",
       "  <tbody>\n",
       "    <tr>\n",
       "      <th>0</th>\n",
       "      <td>1980-01-02</td>\n",
       "      <td>1.1437</td>\n",
       "      <td>1.1457</td>\n",
       "      <td>1.1413</td>\n",
       "      <td>1.1437</td>\n",
       "      <td>881</td>\n",
       "      <td>50</td>\n",
       "      <td>0</td>\n",
       "    </tr>\n",
       "    <tr>\n",
       "      <th>1</th>\n",
       "      <td>1980-01-03</td>\n",
       "      <td>1.1420</td>\n",
       "      <td>1.1432</td>\n",
       "      <td>1.1411</td>\n",
       "      <td>1.1420</td>\n",
       "      <td>421</td>\n",
       "      <td>50</td>\n",
       "      <td>0</td>\n",
       "    </tr>\n",
       "    <tr>\n",
       "      <th>2</th>\n",
       "      <td>1980-01-04</td>\n",
       "      <td>1.1427</td>\n",
       "      <td>1.1431</td>\n",
       "      <td>1.1419</td>\n",
       "      <td>1.1424</td>\n",
       "      <td>211</td>\n",
       "      <td>50</td>\n",
       "      <td>0</td>\n",
       "    </tr>\n",
       "    <tr>\n",
       "      <th>3</th>\n",
       "      <td>1980-01-07</td>\n",
       "      <td>1.1453</td>\n",
       "      <td>1.1453</td>\n",
       "      <td>1.1452</td>\n",
       "      <td>1.1452</td>\n",
       "      <td>11</td>\n",
       "      <td>50</td>\n",
       "      <td>0</td>\n",
       "    </tr>\n",
       "    <tr>\n",
       "      <th>4</th>\n",
       "      <td>1980-01-08</td>\n",
       "      <td>1.1411</td>\n",
       "      <td>1.1416</td>\n",
       "      <td>1.1402</td>\n",
       "      <td>1.1408</td>\n",
       "      <td>251</td>\n",
       "      <td>50</td>\n",
       "      <td>0</td>\n",
       "    </tr>\n",
       "  </tbody>\n",
       "</table>\n",
       "</div>"
      ],
      "text/plain": [
       "         Date    open    high     low   close  tick_volume  spread  \\\n",
       "0  1980-01-02  1.1437  1.1457  1.1413  1.1437          881      50   \n",
       "1  1980-01-03  1.1420  1.1432  1.1411  1.1420          421      50   \n",
       "2  1980-01-04  1.1427  1.1431  1.1419  1.1424          211      50   \n",
       "3  1980-01-07  1.1453  1.1453  1.1452  1.1452           11      50   \n",
       "4  1980-01-08  1.1411  1.1416  1.1402  1.1408          251      50   \n",
       "\n",
       "   real_volume  \n",
       "0            0  \n",
       "1            0  \n",
       "2            0  \n",
       "3            0  \n",
       "4            0  "
      ]
     },
     "execution_count": 15,
     "metadata": {},
     "output_type": "execute_result"
    }
   ],
   "source": [
    "import pandas as pd\n",
    "import numpy as np\n",
    "%matplotlib inline\n",
    "import matplotlib.pyplot as plt\n",
    "import sklearn.metrics as metrics\n",
    "from sklearn.preprocessing import StandardScaler\n",
    "from sklearn.metrics import r2_score\n",
    "import tensorflow as tf\n",
    "from keras.models import Sequential\n",
    "from keras.layers import Dense\n",
    "import keras.backend as K\n",
    "from keras.callbacks import EarlyStopping\n",
    "from keras.optimizers import Adam\n",
    "from keras.layers import Dropout\n",
    "\n",
    "\n",
    "def adj_r2_score(r2, n, k):\n",
    "    return 1-((1-r2)*((n-1)/(n-k-1)))\n",
    "\n",
    "# Loading dataset\n",
    "exchange_data = pd.read_csv('EURUSD.csv')\n",
    "exchange_data.head()"
   ]
  },
  {
   "cell_type": "code",
   "execution_count": 16,
   "id": "bcb17568",
   "metadata": {},
   "outputs": [
    {
     "data": {
      "text/html": [
       "<div>\n",
       "<style scoped>\n",
       "    .dataframe tbody tr th:only-of-type {\n",
       "        vertical-align: middle;\n",
       "    }\n",
       "\n",
       "    .dataframe tbody tr th {\n",
       "        vertical-align: top;\n",
       "    }\n",
       "\n",
       "    .dataframe thead th {\n",
       "        text-align: right;\n",
       "    }\n",
       "</style>\n",
       "<table border=\"1\" class=\"dataframe\">\n",
       "  <thead>\n",
       "    <tr style=\"text-align: right;\">\n",
       "      <th></th>\n",
       "      <th>open</th>\n",
       "      <th>high</th>\n",
       "      <th>low</th>\n",
       "      <th>close</th>\n",
       "      <th>tick_volume</th>\n",
       "      <th>spread</th>\n",
       "      <th>real_volume</th>\n",
       "    </tr>\n",
       "    <tr>\n",
       "      <th>Date</th>\n",
       "      <th></th>\n",
       "      <th></th>\n",
       "      <th></th>\n",
       "      <th></th>\n",
       "      <th></th>\n",
       "      <th></th>\n",
       "      <th></th>\n",
       "    </tr>\n",
       "  </thead>\n",
       "  <tbody>\n",
       "    <tr>\n",
       "      <th>1980-01-02</th>\n",
       "      <td>1.1437</td>\n",
       "      <td>1.1457</td>\n",
       "      <td>1.1413</td>\n",
       "      <td>1.1437</td>\n",
       "      <td>881</td>\n",
       "      <td>50</td>\n",
       "      <td>0</td>\n",
       "    </tr>\n",
       "    <tr>\n",
       "      <th>1980-01-03</th>\n",
       "      <td>1.1420</td>\n",
       "      <td>1.1432</td>\n",
       "      <td>1.1411</td>\n",
       "      <td>1.1420</td>\n",
       "      <td>421</td>\n",
       "      <td>50</td>\n",
       "      <td>0</td>\n",
       "    </tr>\n",
       "    <tr>\n",
       "      <th>1980-01-04</th>\n",
       "      <td>1.1427</td>\n",
       "      <td>1.1431</td>\n",
       "      <td>1.1419</td>\n",
       "      <td>1.1424</td>\n",
       "      <td>211</td>\n",
       "      <td>50</td>\n",
       "      <td>0</td>\n",
       "    </tr>\n",
       "    <tr>\n",
       "      <th>1980-01-07</th>\n",
       "      <td>1.1453</td>\n",
       "      <td>1.1453</td>\n",
       "      <td>1.1452</td>\n",
       "      <td>1.1452</td>\n",
       "      <td>11</td>\n",
       "      <td>50</td>\n",
       "      <td>0</td>\n",
       "    </tr>\n",
       "    <tr>\n",
       "      <th>1980-01-08</th>\n",
       "      <td>1.1411</td>\n",
       "      <td>1.1416</td>\n",
       "      <td>1.1402</td>\n",
       "      <td>1.1408</td>\n",
       "      <td>251</td>\n",
       "      <td>50</td>\n",
       "      <td>0</td>\n",
       "    </tr>\n",
       "  </tbody>\n",
       "</table>\n",
       "</div>"
      ],
      "text/plain": [
       "              open    high     low   close  tick_volume  spread  real_volume\n",
       "Date                                                                        \n",
       "1980-01-02  1.1437  1.1457  1.1413  1.1437          881      50            0\n",
       "1980-01-03  1.1420  1.1432  1.1411  1.1420          421      50            0\n",
       "1980-01-04  1.1427  1.1431  1.1419  1.1424          211      50            0\n",
       "1980-01-07  1.1453  1.1453  1.1452  1.1452           11      50            0\n",
       "1980-01-08  1.1411  1.1416  1.1402  1.1408          251      50            0"
      ]
     },
     "execution_count": 16,
     "metadata": {},
     "output_type": "execute_result"
    }
   ],
   "source": [
    "# Changing format to datetime and indexing data\n",
    "exchange_data[\"Date\"] = pd.to_datetime(exchange_data[\"Date\"])\n",
    "ind_exchange_data = exchange_data.set_index([\"Date\"], drop=True)\n",
    "\n",
    "ind_exchange_data.head()"
   ]
  },
  {
   "cell_type": "code",
   "execution_count": 17,
   "id": "d1a89b1e",
   "metadata": {
    "scrolled": true
   },
   "outputs": [
    {
     "data": {
      "text/html": [
       "<div>\n",
       "<style scoped>\n",
       "    .dataframe tbody tr th:only-of-type {\n",
       "        vertical-align: middle;\n",
       "    }\n",
       "\n",
       "    .dataframe tbody tr th {\n",
       "        vertical-align: top;\n",
       "    }\n",
       "\n",
       "    .dataframe thead th {\n",
       "        text-align: right;\n",
       "    }\n",
       "</style>\n",
       "<table border=\"1\" class=\"dataframe\">\n",
       "  <thead>\n",
       "    <tr style=\"text-align: right;\">\n",
       "      <th></th>\n",
       "      <th>close</th>\n",
       "      <th>high</th>\n",
       "      <th>low</th>\n",
       "      <th>open</th>\n",
       "      <th>real_volume</th>\n",
       "      <th>spread</th>\n",
       "      <th>tick_volume</th>\n",
       "    </tr>\n",
       "    <tr>\n",
       "      <th>Date</th>\n",
       "      <th></th>\n",
       "      <th></th>\n",
       "      <th></th>\n",
       "      <th></th>\n",
       "      <th></th>\n",
       "      <th></th>\n",
       "      <th></th>\n",
       "    </tr>\n",
       "  </thead>\n",
       "  <tbody>\n",
       "    <tr>\n",
       "      <th>2023-01-10</th>\n",
       "      <td>1.07313</td>\n",
       "      <td>1.07587</td>\n",
       "      <td>1.07114</td>\n",
       "      <td>1.07260</td>\n",
       "      <td>114870300000</td>\n",
       "      <td>5</td>\n",
       "      <td>765802</td>\n",
       "    </tr>\n",
       "    <tr>\n",
       "      <th>2023-01-09</th>\n",
       "      <td>1.07268</td>\n",
       "      <td>1.07601</td>\n",
       "      <td>1.06370</td>\n",
       "      <td>1.06392</td>\n",
       "      <td>115589400000</td>\n",
       "      <td>5</td>\n",
       "      <td>770596</td>\n",
       "    </tr>\n",
       "    <tr>\n",
       "      <th>2023-01-06</th>\n",
       "      <td>1.06441</td>\n",
       "      <td>1.06475</td>\n",
       "      <td>1.04814</td>\n",
       "      <td>1.05188</td>\n",
       "      <td>115158600000</td>\n",
       "      <td>5</td>\n",
       "      <td>767724</td>\n",
       "    </tr>\n",
       "    <tr>\n",
       "      <th>2023-01-05</th>\n",
       "      <td>1.05206</td>\n",
       "      <td>1.06307</td>\n",
       "      <td>1.05145</td>\n",
       "      <td>1.06001</td>\n",
       "      <td>115689600000</td>\n",
       "      <td>5</td>\n",
       "      <td>771264</td>\n",
       "    </tr>\n",
       "    <tr>\n",
       "      <th>2023-01-04</th>\n",
       "      <td>1.06016</td>\n",
       "      <td>1.06347</td>\n",
       "      <td>1.05398</td>\n",
       "      <td>1.05449</td>\n",
       "      <td>117649950000</td>\n",
       "      <td>5</td>\n",
       "      <td>784333</td>\n",
       "    </tr>\n",
       "  </tbody>\n",
       "</table>\n",
       "</div>"
      ],
      "text/plain": [
       "              close     high      low     open   real_volume  spread  \\\n",
       "Date                                                                   \n",
       "2023-01-10  1.07313  1.07587  1.07114  1.07260  114870300000       5   \n",
       "2023-01-09  1.07268  1.07601  1.06370  1.06392  115589400000       5   \n",
       "2023-01-06  1.06441  1.06475  1.04814  1.05188  115158600000       5   \n",
       "2023-01-05  1.05206  1.06307  1.05145  1.06001  115689600000       5   \n",
       "2023-01-04  1.06016  1.06347  1.05398  1.05449  117649950000       5   \n",
       "\n",
       "            tick_volume  \n",
       "Date                     \n",
       "2023-01-10       765802  \n",
       "2023-01-09       770596  \n",
       "2023-01-06       767724  \n",
       "2023-01-05       771264  \n",
       "2023-01-04       784333  "
      ]
     },
     "execution_count": 17,
     "metadata": {},
     "output_type": "execute_result"
    }
   ],
   "source": [
    "# Sorting data in ascending order\n",
    "data_frame = ind_exchange_data.sort_index(axis=1 ,ascending=True)\n",
    "data_frame = data_frame.iloc[::-1]\n",
    "data_frame.head()"
   ]
  },
  {
   "cell_type": "code",
   "execution_count": 6,
   "id": "ad6f7295",
   "metadata": {},
   "outputs": [
    {
     "data": {
      "text/plain": [
       "<AxesSubplot:xlabel='Date'>"
      ]
     },
     "execution_count": 6,
     "metadata": {},
     "output_type": "execute_result"
    },
    {
     "data": {
      "image/png": "[encoded data removed]",
      "text/plain": [
       "<Figure size 864x504 with 1 Axes>"
      ]
     },
     "metadata": {
      "needs_background": "light"
     },
     "output_type": "display_data"
    }
   ],
   "source": [
    "df = data_frame[[\"close\"]]\n",
    "\n",
    "df.plot(kind='line',figsize=(12,7))"
   ]
  },
  {
   "cell_type": "code",
   "execution_count": 7,
   "id": "f861e6d3",
   "metadata": {},
   "outputs": [
    {
     "data": {
      "text/plain": [
       "<matplotlib.legend.Legend at 0x7fe62456b8b0>"
      ]
     },
     "execution_count": 7,
     "metadata": {},
     "output_type": "execute_result"
    },
    {
     "data": {
      "image/png": "[encoded data removed]",
      "text/plain": [
       "<Figure size 864x576 with 1 Axes>"
      ]
     },
     "metadata": {
      "needs_background": "light"
     },
     "output_type": "display_data"
    }
   ],
   "source": [
    "split_date = pd.Timestamp('26-08-2014')\n",
    "\n",
    "train = df.loc[split_date:]\n",
    "test = df.loc[:split_date]\n",
    "\n",
    "ax = train.plot(kind='line',figsize=(12,8))\n",
    "test.plot(ax=ax,kind='line',figsize=(12,8))\n",
    "plt.legend(['train', 'test'])"
   ]
  },
  {
   "cell_type": "code",
   "execution_count": 8,
   "id": "74344bba",
   "metadata": {},
   "outputs": [
    {
     "data": {
      "text/plain": [
       "array([[0.8622387 ],\n",
       "       [0.87389174],\n",
       "       [0.89705854],\n",
       "       ...,\n",
       "       [0.06644288],\n",
       "       [0.05344347],\n",
       "       [0.05158641]])"
      ]
     },
     "execution_count": 8,
     "metadata": {},
     "output_type": "execute_result"
    }
   ],
   "source": [
    "sc = StandardScaler()\n",
    "train_sc = sc.fit_transform(train)\n",
    "test_sc = sc.transform(test)\n",
    "\n",
    "X_train = train_sc[:-1]\n",
    "y_train = train_sc[1:]\n",
    "\n",
    "X_test = test_sc[:-1]\n",
    "y_test = test_sc[1:]\n",
    "\n",
    "X_train"
   ]
  },
  {
   "cell_type": "code",
   "execution_count": 9,
   "id": "77fa1500",
   "metadata": {},
   "outputs": [
    {
     "name": "stderr",
     "output_type": "stream",
     "text": [
      "2024-02-18 17:40:36.174691: I external/local_xla/xla/stream_executor/cuda/cuda_executor.cc:887] could not open file to read NUMA node: /sys/bus/pci/devices/0000:01:00.0/numa_node\n",
      "Your kernel may have been built without NUMA support.\n",
      "2024-02-18 17:40:36.192349: I external/local_xla/xla/stream_executor/cuda/cuda_executor.cc:887] could not open file to read NUMA node: /sys/bus/pci/devices/0000:01:00.0/numa_node\n",
      "Your kernel may have been built without NUMA support.\n",
      "2024-02-18 17:40:36.192380: I external/local_xla/xla/stream_executor/cuda/cuda_executor.cc:887] could not open file to read NUMA node: /sys/bus/pci/devices/0000:01:00.0/numa_node\n",
      "Your kernel may have been built without NUMA support.\n",
      "2024-02-18 17:40:36.194412: I external/local_xla/xla/stream_executor/cuda/cuda_executor.cc:887] could not open file to read NUMA node: /sys/bus/pci/devices/0000:01:00.0/numa_node\n",
      "Your kernel may have been built without NUMA support.\n",
      "2024-02-18 17:40:36.194437: I external/local_xla/xla/stream_executor/cuda/cuda_executor.cc:887] could not open file to read NUMA node: /sys/bus/pci/devices/0000:01:00.0/numa_node\n",
      "Your kernel may have been built without NUMA support.\n",
      "2024-02-18 17:40:36.194448: I external/local_xla/xla/stream_executor/cuda/cuda_executor.cc:887] could not open file to read NUMA node: /sys/bus/pci/devices/0000:01:00.0/numa_node\n",
      "Your kernel may have been built without NUMA support.\n",
      "2024-02-18 17:40:36.410554: I external/local_xla/xla/stream_executor/cuda/cuda_executor.cc:887] could not open file to read NUMA node: /sys/bus/pci/devices/0000:01:00.0/numa_node\n",
      "Your kernel may have been built without NUMA support.\n",
      "2024-02-18 17:40:36.410612: I external/local_xla/xla/stream_executor/cuda/cuda_executor.cc:887] could not open file to read NUMA node: /sys/bus/pci/devices/0000:01:00.0/numa_node\n",
      "Your kernel may have been built without NUMA support.\n",
      "2024-02-18 17:40:36.410618: I tensorflow/core/common_runtime/gpu/gpu_device.cc:2022] Could not identify NUMA node of platform GPU id 0, defaulting to 0.  Your kernel may not have been built with NUMA support.\n",
      "2024-02-18 17:40:36.410655: I external/local_xla/xla/stream_executor/cuda/cuda_executor.cc:887] could not open file to read NUMA node: /sys/bus/pci/devices/0000:01:00.0/numa_node\n",
      "Your kernel may have been built without NUMA support.\n",
      "2024-02-18 17:40:36.410681: I tensorflow/core/common_runtime/gpu/gpu_device.cc:1929] Created device /job:localhost/replica:0/task:0/device:GPU:0 with 9572 MB memory:  -> device: 0, name: NVIDIA GeForce RTX 4070, pci bus id: 0000:01:00.0, compute capability: 8.9\n"
     ]
    },
    {
     "name": "stdout",
     "output_type": "stream",
     "text": [
      "Model: \"sequential\"\n",
      "_________________________________________________________________\n",
      " Layer (type)                Output Shape              Param #   \n",
      "=================================================================\n",
      " dense (Dense)               (None, 12)                24        \n",
      "                                                                 \n",
      " dense_1 (Dense)             (None, 1)                 13        \n",
      "                                                                 \n",
      "=================================================================\n",
      "Total params: 37 (148.00 Byte)\n",
      "Trainable params: 37 (148.00 Byte)\n",
      "Non-trainable params: 0 (0.00 Byte)\n",
      "_________________________________________________________________\n"
     ]
    }
   ],
   "source": [
    "K.clear_session()\n",
    "\n",
    "model = Sequential()\n",
    "model.add(Dense(12, input_dim=1, activation='relu'))\n",
    "model.add(Dense(1))\n",
    "model.summary()"
   ]
  },
  {
   "cell_type": "code",
   "execution_count": 10,
   "id": "198c9168",
   "metadata": {},
   "outputs": [
    {
     "name": "stdout",
     "output_type": "stream",
     "text": [
      "Epoch 1/200\n"
     ]
    },
    {
     "name": "stderr",
     "output_type": "stream",
     "text": [
      "2024-02-18 17:41:11.377847: I external/local_tsl/tsl/platform/default/subprocess.cc:304] Start cannot spawn child process: No such file or directory\n",
      "2024-02-18 17:41:11.634968: I external/local_xla/xla/service/service.cc:168] XLA service 0x7fe3b1339690 initialized for platform CUDA (this does not guarantee that XLA will be used). Devices:\n",
      "2024-02-18 17:41:11.634992: I external/local_xla/xla/service/service.cc:176]   StreamExecutor device (0): NVIDIA GeForce RTX 4070, Compute Capability 8.9\n",
      "2024-02-18 17:41:11.645985: I tensorflow/compiler/mlir/tensorflow/utils/dump_mlir_util.cc:269] disabling MLIR crash reproducer, set env var `MLIR_CRASH_REPRODUCER_DIRECTORY` to enable.\n",
      "2024-02-18 17:41:11.668618: I external/local_xla/xla/stream_executor/cuda/cuda_dnn.cc:454] Loaded cuDNN version 8904\n",
      "WARNING: All log messages before absl::InitializeLog() is called are written to STDERR\n",
      "I0000 00:00:1708274471.728080    5238 device_compiler.h:186] Compiled cluster using XLA!  This line is logged at most once for the lifetime of the process.\n"
     ]
    },
    {
     "name": "stdout",
     "output_type": "stream",
     "text": [
      "8963/8963 [==============================] - 15s 2ms/step - loss: 0.0279 - rmse: 0.1669\n",
      "Epoch 2/200\n",
      "8963/8963 [==============================] - 15s 2ms/step - loss: 0.0017 - rmse: 0.0406\n",
      "Epoch 3/200\n",
      "8963/8963 [==============================] - 16s 2ms/step - loss: 0.0016 - rmse: 0.0398\n",
      "Epoch 4/200\n",
      "8963/8963 [==============================] - 16s 2ms/step - loss: 0.0016 - rmse: 0.0395\n",
      "Epoch 5/200\n",
      "8963/8963 [==============================] - 16s 2ms/step - loss: 0.0016 - rmse: 0.0394\n",
      "Epoch 6/200\n",
      "8963/8963 [==============================] - 16s 2ms/step - loss: 0.0015 - rmse: 0.0394\n",
      "Epoch 7/200\n",
      "8963/8963 [==============================] - 17s 2ms/step - loss: 0.0015 - rmse: 0.0393\n",
      "Epoch 8/200\n",
      "8963/8963 [==============================] - 17s 2ms/step - loss: 0.0015 - rmse: 0.0393\n",
      "Epoch 9/200\n",
      "8963/8963 [==============================] - 16s 2ms/step - loss: 0.0015 - rmse: 0.0392\n",
      "Epoch 10/200\n",
      "8963/8963 [==============================] - 16s 2ms/step - loss: 0.0015 - rmse: 0.0391\n",
      "Epoch 11/200\n",
      "8963/8963 [==============================] - 16s 2ms/step - loss: 0.0015 - rmse: 0.0391\n",
      "Epoch 12/200\n",
      "8963/8963 [==============================] - 16s 2ms/step - loss: 0.0015 - rmse: 0.0390\n",
      "Epoch 13/200\n",
      "8963/8963 [==============================] - 17s 2ms/step - loss: 0.0015 - rmse: 0.0389\n",
      "Epoch 14/200\n",
      "8963/8963 [==============================] - 16s 2ms/step - loss: 0.0015 - rmse: 0.0388\n",
      "Epoch 15/200\n",
      "8963/8963 [==============================] - 16s 2ms/step - loss: 0.0015 - rmse: 0.0388\n",
      "Epoch 16/200\n",
      "8963/8963 [==============================] - 17s 2ms/step - loss: 0.0015 - rmse: 0.0387\n",
      "Epoch 17/200\n",
      "8963/8963 [==============================] - 17s 2ms/step - loss: 0.0015 - rmse: 0.0387\n",
      "Epoch 18/200\n",
      "8963/8963 [==============================] - 17s 2ms/step - loss: 0.0015 - rmse: 0.0386\n",
      "Epoch 19/200\n",
      "8963/8963 [==============================] - 16s 2ms/step - loss: 0.0015 - rmse: 0.0387\n",
      "Epoch 20/200\n",
      "8963/8963 [==============================] - 16s 2ms/step - loss: 0.0015 - rmse: 0.0387\n",
      "Epoch 20: early stopping\n"
     ]
    }
   ],
   "source": [
    "model.compile(loss=tf.keras.metrics.mean_squared_error,\n",
    "              metrics=[tf.keras.metrics.RootMeanSquaredError(name='rmse')], optimizer='adam')\n",
    "early_stop = EarlyStopping(monitor='loss', patience=2, verbose=1)\n",
    "history = model.fit(X_train, y_train, epochs=200, batch_size=1, verbose=1, callbacks=[early_stop], shuffle=False)"
   ]
  },
  {
   "cell_type": "code",
   "execution_count": 18,
   "id": "68be1e75",
   "metadata": {},
   "outputs": [
    {
     "name": "stdout",
     "output_type": "stream",
     "text": [
      "68/68 [==============================] - 0s 1ms/step\n",
      "281/281 [==============================] - 0s 1ms/step\n",
      "Train - R2:\t0.968\n",
      "Train - MAE:\t0.139\n",
      "Train - RMSE:\t0.179\n",
      "Train - upravene R2:\t0.968\n",
      "\n",
      "Test - R2:\t0.970\n",
      "Test - MAE:\t0.036\n",
      "Test - RMSE:\t0.048\n",
      "Test - upravene R2:\t0.970\n"
     ]
    }
   ],
   "source": [
    "y_pred_test = model.predict(X_test)\n",
    "y_train_pred = model.predict(X_train)\n",
    "\n",
    "train_mse = metrics.mean_squared_error(y_train, y_train_pred)\n",
    "rmse_train = np.sqrt(train_mse)\n",
    "\n",
    "test_mse = metrics.mean_squared_error(y_test, y_pred_test)\n",
    "rmse_test = np.sqrt(test_mse)\n",
    "\n",
    "print(\"Train - R2:\\t{:0.3f}\".format(r2_score(y_train, y_train_pred)))\n",
    "print(\"Train - MAE:\\t{:0.3f}\".format(metrics.mean_absolute_error(y_train, y_train_pred)))\n",
    "print(\"Train - RMSE:\\t{:0.3f}\".format(rmse_train))\n",
    "r2_train = r2_score(y_train, y_train_pred)\n",
    "print(\"Train - upravene R2:\\t{:0.3f}\\n\".format(adj_r2_score(r2_train, X_train.shape[0], X_train.shape[1])))\n",
    "\n",
    "print(\"Test - R2:\\t{:0.3f}\".format(r2_score(y_test, y_pred_test)))\n",
    "r2_test = r2_score(y_test, y_pred_test)\n",
    "print(\"Test - MAE:\\t{:0.3f}\".format(metrics.mean_absolute_error(y_test, y_pred_test)))\n",
    "print(\"Test - RMSE:\\t{:0.3f}\".format(rmse_test))\n",
    "print(\"Test - upravene R2:\\t{:0.3f}\".format(adj_r2_score(r2_test, X_test.shape[0], X_test.shape[1])))"
   ]
  },
  {
   "cell_type": "code",
   "execution_count": null,
   "id": "c2aa78d0",
   "metadata": {},
   "outputs": [],
   "source": []
  },
  {
   "cell_type": "code",
   "execution_count": 1,
   "id": "35e13456",
   "metadata": {
    "scrolled": true
   },
   "outputs": [
    {
     "ename": "NameError",
     "evalue": "name 'plt' is not defined",
     "output_type": "error",
     "traceback": [
      "\u001b[0;31m---------------------------------------------------------------------------\u001b[0m",
      "\u001b[0;31mNameError\u001b[0m                                 Traceback (most recent call last)",
      "Cell \u001b[0;32mIn[1], line 1\u001b[0m\n\u001b[0;32m----> 1\u001b[0m plt\u001b[38;5;241m.\u001b[39mfigure(figsize\u001b[38;5;241m=\u001b[39m(\u001b[38;5;241m12\u001b[39m,\u001b[38;5;241m8\u001b[39m))\n\u001b[1;32m      2\u001b[0m plt\u001b[38;5;241m.\u001b[39mplot(y_test, label\u001b[38;5;241m=\u001b[39m\u001b[38;5;124m'\u001b[39m\u001b[38;5;124mTrue\u001b[39m\u001b[38;5;124m'\u001b[39m)\n\u001b[1;32m      3\u001b[0m plt\u001b[38;5;241m.\u001b[39mplot(y_pred_test, label\u001b[38;5;241m=\u001b[39m\u001b[38;5;124m'\u001b[39m\u001b[38;5;124mANN\u001b[39m\u001b[38;5;124m'\u001b[39m)\n",
      "\u001b[0;31mNameError\u001b[0m: name 'plt' is not defined"
     ]
    }
   ],
   "source": [
    "plt.figure(figsize=(12,8))\n",
    "plt.plot(y_test, label='True')\n",
    "plt.plot(y_pred_test, label='ANN')\n",
    "plt.title(\"ANN's_Prediction\")\n",
    "plt.xlabel('Observation')\n",
    "plt.ylabel('INR_Scaled')\n",
    "plt.legend()\n",
    "plt.show()"
   ]
  },
  {
   "cell_type": "code",
   "execution_count": 19,
   "id": "178325e5",
   "metadata": {},
   "outputs": [],
   "source": [
    "X_tr_t = X_train.reshape(X_train.shape[0], 1, X_train.shape[1])\n",
    "X_tst_t = X_test.reshape(X_test.shape[0], 1, X_test.shape[1])"
   ]
  },
  {
   "cell_type": "code",
   "execution_count": 24,
   "id": "16d1c74f",
   "metadata": {},
   "outputs": [
    {
     "name": "stdout",
     "output_type": "stream",
     "text": [
      "WARNING:tensorflow:Layer lstm will not use cuDNN kernels since it doesn't meet the criteria. It will use a generic GPU kernel as fallback when running on GPU.\n",
      "Model: \"sequential\"\n",
      "_________________________________________________________________\n",
      " Layer (type)                Output Shape              Param #   \n",
      "=================================================================\n",
      " lstm (LSTM)                 (None, 50)                10400     \n",
      "                                                                 \n",
      " dense (Dense)               (None, 1)                 51        \n",
      "                                                                 \n",
      "=================================================================\n",
      "Total params: 10451 (40.82 KB)\n",
      "Trainable params: 10451 (40.82 KB)\n",
      "Non-trainable params: 0 (0.00 Byte)\n",
      "_________________________________________________________________\n"
     ]
    }
   ],
   "source": [
    "from keras.layers import LSTM\n",
    "K.clear_session()\n",
    "model_lstm = Sequential()\n",
    "model_lstm.add(LSTM(50, input_shape=(1, X_train.shape[1]), activation='relu', kernel_initializer='lecun_uniform', \n",
    "                    return_sequences=False))\n",
    "model_lstm.add(Dense(1))\n",
    "model_lstm.summary()"
   ]
  },
  {
   "cell_type": "code",
   "execution_count": 25,
   "id": "90f97bed",
   "metadata": {
    "scrolled": false
   },
   "outputs": [
    {
     "name": "stdout",
     "output_type": "stream",
     "text": [
      "Epoch 1/100\n",
      "8963/8963 [==============================] - 29s 3ms/step - loss: 0.0052 - rmse: 0.0718\n",
      "Epoch 2/100\n",
      "8963/8963 [==============================] - 28s 3ms/step - loss: 0.0017 - rmse: 0.0414\n",
      "Epoch 3/100\n",
      "8963/8963 [==============================] - 25s 3ms/step - loss: 0.0017 - rmse: 0.0414\n",
      "Epoch 4/100\n",
      "8963/8963 [==============================] - 24s 3ms/step - loss: 0.0017 - rmse: 0.0410\n",
      "Epoch 5/100\n",
      "8963/8963 [==============================] - 27s 3ms/step - loss: 0.0017 - rmse: 0.0407\n",
      "Epoch 6/100\n",
      "8963/8963 [==============================] - 26s 3ms/step - loss: 0.0016 - rmse: 0.0405\n",
      "Epoch 7/100\n",
      "8963/8963 [==============================] - 27s 3ms/step - loss: 0.0016 - rmse: 0.0402\n",
      "Epoch 8/100\n",
      "8963/8963 [==============================] - 28s 3ms/step - loss: 0.0016 - rmse: 0.0400\n",
      "Epoch 9/100\n",
      "8963/8963 [==============================] - 26s 3ms/step - loss: 0.0016 - rmse: 0.0399\n",
      "Epoch 10/100\n",
      "8963/8963 [==============================] - 27s 3ms/step - loss: 0.0016 - rmse: 0.0397\n",
      "Epoch 11/100\n",
      "8963/8963 [==============================] - 25s 3ms/step - loss: 0.0016 - rmse: 0.0395\n",
      "Epoch 12/100\n",
      "8963/8963 [==============================] - 28s 3ms/step - loss: 0.0016 - rmse: 0.0394\n",
      "Epoch 13/100\n",
      "8963/8963 [==============================] - 28s 3ms/step - loss: 0.0015 - rmse: 0.0393\n",
      "Epoch 14/100\n",
      "8963/8963 [==============================] - 30s 3ms/step - loss: 0.0015 - rmse: 0.0393\n",
      "Epoch 15/100\n",
      "8963/8963 [==============================] - 27s 3ms/step - loss: 0.0015 - rmse: 0.0392\n",
      "Epoch 16/100\n",
      "8963/8963 [==============================] - 24s 3ms/step - loss: 0.0015 - rmse: 0.0392\n",
      "Epoch 17/100\n",
      "8963/8963 [==============================] - 23s 3ms/step - loss: 0.0015 - rmse: 0.0391\n",
      "Epoch 18/100\n",
      "8963/8963 [==============================] - 30s 3ms/step - loss: 0.0015 - rmse: 0.0390\n",
      "Epoch 19/100\n",
      "8963/8963 [==============================] - 31s 3ms/step - loss: 0.0015 - rmse: 0.0389\n",
      "Epoch 20/100\n",
      "8963/8963 [==============================] - 31s 3ms/step - loss: 0.0015 - rmse: 0.0388\n",
      "Epoch 21/100\n",
      "8963/8963 [==============================] - 27s 3ms/step - loss: 0.0015 - rmse: 0.0388\n",
      "Epoch 22/100\n",
      "8963/8963 [==============================] - 28s 3ms/step - loss: 0.0015 - rmse: 0.0388\n",
      "Epoch 23/100\n",
      "8963/8963 [==============================] - 26s 3ms/step - loss: 0.0015 - rmse: 0.0387\n",
      "Epoch 24/100\n",
      "8963/8963 [==============================] - 22s 2ms/step - loss: 0.0015 - rmse: 0.0386\n",
      "Epoch 25/100\n",
      "8963/8963 [==============================] - 27s 3ms/step - loss: 0.0015 - rmse: 0.0386\n",
      "Epoch 26/100\n",
      "8963/8963 [==============================] - 29s 3ms/step - loss: 0.0015 - rmse: 0.0385\n",
      "Epoch 27/100\n",
      "8963/8963 [==============================] - 25s 3ms/step - loss: 0.0015 - rmse: 0.0385\n",
      "Epoch 28/100\n",
      "8963/8963 [==============================] - 27s 3ms/step - loss: 0.0015 - rmse: 0.0384\n",
      "Epoch 29/100\n",
      "8963/8963 [==============================] - 25s 3ms/step - loss: 0.0015 - rmse: 0.0384\n",
      "Epoch 30/100\n",
      "8963/8963 [==============================] - 26s 3ms/step - loss: 0.0015 - rmse: 0.0384\n",
      "Epoch 31/100\n",
      "8963/8963 [==============================] - 25s 3ms/step - loss: 0.0015 - rmse: 0.0383\n",
      "Epoch 32/100\n",
      "8963/8963 [==============================] - 26s 3ms/step - loss: 0.0015 - rmse: 0.0383\n",
      "Epoch 33/100\n",
      "8963/8963 [==============================] - 27s 3ms/step - loss: 0.0015 - rmse: 0.0383\n",
      "Epoch 34/100\n",
      "8963/8963 [==============================] - 29s 3ms/step - loss: 0.0015 - rmse: 0.0382\n",
      "Epoch 35/100\n",
      "8963/8963 [==============================] - 28s 3ms/step - loss: 0.0015 - rmse: 0.0382\n",
      "Epoch 36/100\n",
      "8963/8963 [==============================] - 31s 3ms/step - loss: 0.0015 - rmse: 0.0382\n",
      "Epoch 37/100\n",
      "8963/8963 [==============================] - 28s 3ms/step - loss: 0.0015 - rmse: 0.0381\n",
      "Epoch 38/100\n",
      "8963/8963 [==============================] - 28s 3ms/step - loss: 0.0015 - rmse: 0.0381\n",
      "Epoch 39/100\n",
      "8963/8963 [==============================] - 23s 3ms/step - loss: 0.0014 - rmse: 0.0380\n",
      "Epoch 40/100\n",
      "8963/8963 [==============================] - 25s 3ms/step - loss: 0.0014 - rmse: 0.0380\n",
      "Epoch 41/100\n",
      "8963/8963 [==============================] - 25s 3ms/step - loss: 0.0014 - rmse: 0.0379\n",
      "Epoch 42/100\n",
      "8963/8963 [==============================] - 26s 3ms/step - loss: 0.0014 - rmse: 0.0379\n",
      "Epoch 43/100\n",
      "8963/8963 [==============================] - 26s 3ms/step - loss: 0.0014 - rmse: 0.0378\n",
      "Epoch 44/100\n",
      "8963/8963 [==============================] - 26s 3ms/step - loss: 0.0014 - rmse: 0.0378\n",
      "Epoch 45/100\n",
      "8963/8963 [==============================] - 25s 3ms/step - loss: 0.0014 - rmse: 0.0377\n",
      "Epoch 46/100\n",
      "8963/8963 [==============================] - 26s 3ms/step - loss: 0.0014 - rmse: 0.0377\n",
      "Epoch 47/100\n",
      "8963/8963 [==============================] - 25s 3ms/step - loss: 0.0014 - rmse: 0.0376\n",
      "Epoch 48/100\n",
      "8963/8963 [==============================] - 24s 3ms/step - loss: 0.0014 - rmse: 0.0376\n",
      "Epoch 49/100\n",
      "8963/8963 [==============================] - 27s 3ms/step - loss: 0.0014 - rmse: 0.0375\n",
      "Epoch 50/100\n",
      "8963/8963 [==============================] - 31s 3ms/step - loss: 0.0014 - rmse: 0.0375\n",
      "Epoch 51/100\n",
      "8963/8963 [==============================] - 31s 3ms/step - loss: 0.0014 - rmse: 0.0375\n",
      "Epoch 52/100\n",
      "8963/8963 [==============================] - 31s 3ms/step - loss: 0.0014 - rmse: 0.0374\n",
      "Epoch 53/100\n",
      "8963/8963 [==============================] - 27s 3ms/step - loss: 0.0014 - rmse: 0.0374\n",
      "Epoch 54/100\n",
      "8963/8963 [==============================] - 31s 4ms/step - loss: 0.0014 - rmse: 0.0374\n",
      "Epoch 55/100\n",
      "8963/8963 [==============================] - 31s 3ms/step - loss: 0.0014 - rmse: 0.0374\n",
      "Epoch 56/100\n",
      "8963/8963 [==============================] - 31s 3ms/step - loss: 0.0014 - rmse: 0.0374\n",
      "Epoch 57/100\n",
      "8963/8963 [==============================] - 25s 3ms/step - loss: 0.0014 - rmse: 0.0374\n",
      "Epoch 58/100\n",
      "8963/8963 [==============================] - 28s 3ms/step - loss: 0.0014 - rmse: 0.0374\n",
      "Epoch 59/100\n",
      "8963/8963 [==============================] - 28s 3ms/step - loss: 0.0014 - rmse: 0.0375\n",
      "Epoch 60/100\n",
      "8963/8963 [==============================] - 27s 3ms/step - loss: 0.0014 - rmse: 0.0375\n",
      "Epoch 61/100\n",
      "8963/8963 [==============================] - 31s 3ms/step - loss: 0.0014 - rmse: 0.0375\n",
      "Epoch 61: early stopping\n"
     ]
    }
   ],
   "source": [
    "model_lstm.compile(loss=tf.keras.metrics.mean_squared_error,\n",
    "              metrics=[tf.keras.metrics.RootMeanSquaredError(name='rmse')], optimizer='adam')\n",
    "early_stop = EarlyStopping(monitor='loss', patience=5, verbose=1)\n",
    "history_model_lstm = model_lstm.fit(X_tr_t, y_train, epochs=100, batch_size=1, verbose=1, shuffle=False, callbacks=[early_stop])"
   ]
  },
  {
   "cell_type": "code",
   "execution_count": 1,
   "id": "a5d214ad",
   "metadata": {},
   "outputs": [
    {
     "ename": "NameError",
     "evalue": "name 'model_lstm' is not defined",
     "output_type": "error",
     "traceback": [
      "\u001b[0;31m---------------------------------------------------------------------------\u001b[0m",
      "\u001b[0;31mNameError\u001b[0m                                 Traceback (most recent call last)",
      "\u001b[0;32m/tmp/ipykernel_12601/401229806.py\u001b[0m in \u001b[0;36m<module>\u001b[0;34m\u001b[0m\n\u001b[0;32m----> 1\u001b[0;31m \u001b[0my_pred_test_lstm\u001b[0m \u001b[0;34m=\u001b[0m \u001b[0mmodel_lstm\u001b[0m\u001b[0;34m.\u001b[0m\u001b[0mpredict\u001b[0m\u001b[0;34m(\u001b[0m\u001b[0mX_tst_t\u001b[0m\u001b[0;34m)\u001b[0m\u001b[0;34m\u001b[0m\u001b[0;34m\u001b[0m\u001b[0m\n\u001b[0m\u001b[1;32m      2\u001b[0m \u001b[0my_train_pred_lstm\u001b[0m \u001b[0;34m=\u001b[0m \u001b[0mmodel_lstm\u001b[0m\u001b[0;34m.\u001b[0m\u001b[0mpredict\u001b[0m\u001b[0;34m(\u001b[0m\u001b[0mX_tr_t\u001b[0m\u001b[0;34m)\u001b[0m\u001b[0;34m\u001b[0m\u001b[0;34m\u001b[0m\u001b[0m\n\u001b[1;32m      3\u001b[0m \u001b[0;34m\u001b[0m\u001b[0m\n\u001b[1;32m      4\u001b[0m \u001b[0mtrain_mse\u001b[0m \u001b[0;34m=\u001b[0m \u001b[0mmetrics\u001b[0m\u001b[0;34m.\u001b[0m\u001b[0mmean_squared_error\u001b[0m\u001b[0;34m(\u001b[0m\u001b[0my_train\u001b[0m\u001b[0;34m,\u001b[0m \u001b[0my_train_pred_lstm\u001b[0m\u001b[0;34m)\u001b[0m\u001b[0;34m\u001b[0m\u001b[0;34m\u001b[0m\u001b[0m\n\u001b[1;32m      5\u001b[0m \u001b[0mrmse_train\u001b[0m \u001b[0;34m=\u001b[0m \u001b[0mnp\u001b[0m\u001b[0;34m.\u001b[0m\u001b[0msqrt\u001b[0m\u001b[0;34m(\u001b[0m\u001b[0mtrain_mse\u001b[0m\u001b[0;34m)\u001b[0m\u001b[0;34m\u001b[0m\u001b[0;34m\u001b[0m\u001b[0m\n",
      "\u001b[0;31mNameError\u001b[0m: name 'model_lstm' is not defined"
     ]
    }
   ],
   "source": [
    "y_pred_test_lstm = model_lstm.predict(X_tst_t)\n",
    "y_train_pred_lstm = model_lstm.predict(X_tr_t)\n",
    "\n",
    "train_mse = metrics.mean_squared_error(y_train, y_train_pred_lstm)\n",
    "rmse_train = np.sqrt(train_mse)\n",
    "\n",
    "test_mse = metrics.mean_squared_error(y_test, y_pred_test_lstm)\n",
    "rmse_test = np.sqrt(test_mse)\n",
    "\n",
    "print(\"Train - R2:\\t{:0.3f}\".format(r2_score(y_train, y_train_pred_lstm)))\n",
    "print(\"Train - MAE\\t{:0.3f}\".format(metrics.mean_absolute_error(y_train, y_train_pred_lstm)))\n",
    "print(\"Train - RMSE:\\t{:0.3f}\".format(rmse_train))\n",
    "r2_train = r2_score(y_train, y_train_pred_lstm)\n",
    "print(\"Train - upravene R2:\\t{:0.3f}\\n\".format(adj_r2_score(r2_train, X_train.shape[0], X_train.shape[1])))\n",
    "\n",
    "\n",
    "print(\"Test - R2:\\t{:0.3f}\".format(r2_score(y_test, y_pred_test_lstm)))\n",
    "r2_test = r2_score(y_test, y_pred_test_lstm)\n",
    "print(\"Test - MAE:\\t{:0.3f}\".format(metrics.mean_absolute_error(y_test, y_pred_test_lstm)))\n",
    "print(\"Test - RMSE:\\t{:0.3f}\".format(rmse_test))\n",
    "print(\"Test - upravene R2:\\t{:0.3f}\".format(adj_r2_score(r2_test, X_test.shape[0], X_test.shape[1])))"
   ]
  },
  {
   "cell_type": "code",
   "execution_count": 1,
   "id": "55b8f887",
   "metadata": {},
   "outputs": [
    {
     "ename": "NameError",
     "evalue": "name 'plt' is not defined",
     "output_type": "error",
     "traceback": [
      "\u001b[0;31m---------------------------------------------------------------------------\u001b[0m",
      "\u001b[0;31mNameError\u001b[0m                                 Traceback (most recent call last)",
      "Cell \u001b[0;32mIn[1], line 1\u001b[0m\n\u001b[0;32m----> 1\u001b[0m plt\u001b[38;5;241m.\u001b[39mfigure(figsize\u001b[38;5;241m=\u001b[39m(\u001b[38;5;241m12\u001b[39m,\u001b[38;5;241m8\u001b[39m))\n\u001b[1;32m      2\u001b[0m plt\u001b[38;5;241m.\u001b[39mplot(y_test, label\u001b[38;5;241m=\u001b[39m\u001b[38;5;124m'\u001b[39m\u001b[38;5;124mTrue\u001b[39m\u001b[38;5;124m'\u001b[39m)\n\u001b[1;32m      3\u001b[0m plt\u001b[38;5;241m.\u001b[39mplot(y_pred_test, label\u001b[38;5;241m=\u001b[39m\u001b[38;5;124m'\u001b[39m\u001b[38;5;124mRandom Forest Prediction\u001b[39m\u001b[38;5;124m'\u001b[39m)\n",
      "\u001b[0;31mNameError\u001b[0m: name 'plt' is not defined"
     ]
    }
   ],
   "source": []
  }
 ],
 "metadata": {
  "kernelspec": {
   "display_name": "Python 3 (ipykernel)",
   "language": "python",
   "name": "python3"
  },
  "language_info": {
   "codemirror_mode": {
    "name": "ipython",
    "version": 3
   },
   "file_extension": ".py",
   "mimetype": "text/x-python",
   "name": "python",
   "nbconvert_exporter": "python",
   "pygments_lexer": "ipython3",
   "version": "3.10.12"
  }
 },
 "nbformat": 4,
 "nbformat_minor": 5
}
